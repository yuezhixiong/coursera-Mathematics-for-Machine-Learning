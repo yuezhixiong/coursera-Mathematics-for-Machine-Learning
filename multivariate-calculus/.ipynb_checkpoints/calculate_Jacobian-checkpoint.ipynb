{
 "cells": [
  {
   "cell_type": "markdown",
   "metadata": {},
   "source": [
    "# calculate the Jacobian row vector"
   ]
  },
  {
   "cell_type": "code",
   "execution_count": 9,
   "metadata": {},
   "outputs": [
    {
     "data": {
      "text/plain": [
       "Matrix([[2*x*y + 3*y/4, x**2 + 3*x/4]])"
      ]
     },
     "execution_count": 9,
     "metadata": {},
     "output_type": "execute_result"
    }
   ],
   "source": [
    "import sympy\n",
    "vars = sympy.symbols('x y') # Define x and y variables\n",
    "f = sympy.sympify(['x**2*y+3/4*x*y+10']) # Define function\n",
    "J = sympy.zeros(len(f),len(vars)) # Initialise Jacobian matrix\n",
    "# Fill Jacobian matrix with entries\n",
    "for i, fi in enumerate(f):\n",
    "    for j, s in enumerate(vars):\n",
    "        J[i,j] = sympy.diff(fi, s)\n",
    "J"
   ]
  },
  {
   "cell_type": "code",
   "execution_count": 1,
   "metadata": {},
   "outputs": [
    {
     "data": {
      "text/plain": [
       "Matrix([[exp(x)*cos(y) + exp(3*y), 3*x*exp(3*y) - exp(x)*sin(y)]])"
      ]
     },
     "execution_count": 1,
     "metadata": {},
     "output_type": "execute_result"
    }
   ],
   "source": [
    "import sympy\n",
    "vars = sympy.symbols('x y') # Define x and y variables\n",
    "f = sympy.sympify(['exp(x)*cos(y)+x*exp(3*y)-2']) # Define function\n",
    "J = sympy.zeros(len(f),len(vars)) # Initialise Jacobian matrix\n",
    "# Fill Jacobian matrix with entries\n",
    "for i, fi in enumerate(f):\n",
    "    for j, s in enumerate(vars):\n",
    "        J[i,j] = sympy.diff(fi, s)\n",
    "J"
   ]
  },
  {
   "cell_type": "code",
   "execution_count": 4,
   "metadata": {},
   "outputs": [
    {
     "data": {
      "text/plain": [
       "Matrix([[2*x*y**2*z**2 + exp(x)*cos(y), 2*x**2*y*z**2 - exp(x)*sin(y), 2*x**2*y**2*z]])"
      ]
     },
     "execution_count": 4,
     "metadata": {},
     "output_type": "execute_result"
    }
   ],
   "source": [
    "from sympy import *\n",
    "vars = symbols('x y z')\n",
    "f = sympify(['exp(x)*cos(y) + x**2*y**2*z**2'])\n",
    "J = zeros(len(f),len(vars))\n",
    "for i, fi in enumerate(f):\n",
    "    for j, s in enumerate(vars):\n",
    "        J[i,j] = diff(fi, s)\n",
    "J"
   ]
  },
  {
   "cell_type": "code",
   "execution_count": 5,
   "metadata": {},
   "outputs": [
    {
     "data": {
      "text/plain": [
       "Matrix([[0, 3, 4]])"
      ]
     },
     "execution_count": 5,
     "metadata": {},
     "output_type": "execute_result"
    }
   ],
   "source": [
    "import sympy as sym\n",
    "vars = sym.symbols('x y z')\n",
    "x, y, z = sym.symbols('x y z')\n",
    "f = sym.sympify(['x**2 + 3*exp(y)*exp(z) + cos(x)*sin(z)'])\n",
    "J = sym.zeros(len(f),len(vars))\n",
    "for i, fi in enumerate(f):\n",
    "    for j, s in enumerate(vars):\n",
    "        J[i,j] = sym.diff(fi, s)\n",
    "J.subs({x:0, y:0, z:0})"
   ]
  },
  {
   "cell_type": "code",
   "execution_count": 6,
   "metadata": {},
   "outputs": [
    {
     "data": {
      "text/plain": [
       "Matrix([[1, 0, 0]])"
      ]
     },
     "execution_count": 6,
     "metadata": {},
     "output_type": "execute_result"
    }
   ],
   "source": [
    "import sympy as sym\n",
    "vars = sym.symbols('x y z')\n",
    "x, y, z = sym.symbols('x y z')\n",
    "f = sym.sympify(['x*exp(y)*cos(z) + 5*x**2*sin(y)*exp(z)'])\n",
    "J = sym.zeros(len(f),len(vars))\n",
    "for i, fi in enumerate(f):\n",
    "    for j, s in enumerate(vars):\n",
    "        J[i,j] = sym.diff(fi, s)\n",
    "J.subs({x:0, y:0, z:0})"
   ]
  },
  {
   "cell_type": "code",
   "execution_count": null,
   "metadata": {},
   "outputs": [],
   "source": []
  }
 ],
 "metadata": {
  "kernelspec": {
   "display_name": "Python 3",
   "language": "python",
   "name": "python3"
  },
  "language_info": {
   "codemirror_mode": {
    "name": "ipython",
    "version": 3
   },
   "file_extension": ".py",
   "mimetype": "text/x-python",
   "name": "python",
   "nbconvert_exporter": "python",
   "pygments_lexer": "ipython3",
   "version": "3.7.1"
  }
 },
 "nbformat": 4,
 "nbformat_minor": 2
}
