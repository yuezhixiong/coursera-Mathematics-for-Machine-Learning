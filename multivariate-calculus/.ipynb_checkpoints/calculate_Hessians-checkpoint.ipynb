{
 "cells": [
  {
   "cell_type": "markdown",
   "metadata": {},
   "source": [
    "# Calculating Hessians"
   ]
  },
  {
   "cell_type": "code",
   "execution_count": 21,
   "metadata": {},
   "outputs": [
    {
     "data": {
      "text/plain": [
       "Matrix([\n",
       "[ 6*x*y, 3*x**2],\n",
       "[3*x**2,      0]])"
      ]
     },
     "execution_count": 21,
     "metadata": {},
     "output_type": "execute_result"
    }
   ],
   "source": [
    "import sympy as sym\n",
    "\n",
    "vars = sym.symbols('x y')\n",
    "f = sym.sympify(['x**3*y + x + 2*y'])\n",
    "\n",
    "H = sym.zeros(len(vars),len(vars))\n",
    "for i, fi in enumerate(f):\n",
    "    for j, r in enumerate(vars):\n",
    "        for k, s in enumerate(vars):\n",
    "            H[j,k] = sym.diff(sym.diff(fi, r), s)\n",
    "H"
   ]
  },
  {
   "cell_type": "code",
   "execution_count": 26,
   "metadata": {},
   "outputs": [
    {
     "data": {
      "text/plain": [
       "Matrix([\n",
       "[ exp(x)*cos(y), -exp(x)*sin(y)],\n",
       "[-exp(x)*sin(y), -exp(x)*cos(y)]])"
      ]
     },
     "execution_count": 26,
     "metadata": {},
     "output_type": "execute_result"
    }
   ],
   "source": [
    "import sympy as sym\n",
    "\n",
    "vars = sym.symbols('x y')\n",
    "f = sym.sympify('exp(x)*cos(y)')\n",
    "\n",
    "H = sym.zeros(len(vars),len(vars))\n",
    "for i, r in enumerate(vars):\n",
    "    for j, s in enumerate(vars):\n",
    "        H[i,j] = sym.diff(sym.diff(f, r), s)\n",
    "H"
   ]
  },
  {
   "cell_type": "code",
   "execution_count": 30,
   "metadata": {},
   "outputs": [
    {
     "data": {
      "text/plain": [
       "Matrix([\n",
       "[     0,              exp(y),            0],\n",
       "[exp(y), x*exp(y) + 2*cos(z),  -2*y*sin(z)],\n",
       "[     0,         -2*y*sin(z), -y**2*cos(z)]])"
      ]
     },
     "execution_count": 30,
     "metadata": {},
     "output_type": "execute_result"
    }
   ],
   "source": [
    "import sympy as sym\n",
    "\n",
    "vars = sym.symbols('x y z')\n",
    "f = sym.sympify('x*exp(y) + y**2*cos(z)')\n",
    "\n",
    "H = sym.zeros(len(vars),len(vars))\n",
    "for i, r in enumerate(vars):\n",
    "    for j, s in enumerate(vars):\n",
    "        H[i,j] = sym.diff(sym.diff(f, r), s)\n",
    "H"
   ]
  },
  {
   "cell_type": "code",
   "execution_count": null,
   "metadata": {},
   "outputs": [],
   "source": []
  }
 ],
 "metadata": {
  "kernelspec": {
   "display_name": "Python 3",
   "language": "python",
   "name": "python3"
  },
  "language_info": {
   "codemirror_mode": {
    "name": "ipython",
    "version": 3
   },
   "file_extension": ".py",
   "mimetype": "text/x-python",
   "name": "python",
   "nbconvert_exporter": "python",
   "pygments_lexer": "ipython3",
   "version": "3.7.1"
  }
 },
 "nbformat": 4,
 "nbformat_minor": 2
}
