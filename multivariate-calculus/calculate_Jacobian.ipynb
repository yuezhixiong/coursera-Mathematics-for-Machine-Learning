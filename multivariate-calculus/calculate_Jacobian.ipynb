{
 "cells": [
  {
   "cell_type": "code",
   "execution_count": 1,
   "metadata": {},
   "outputs": [
    {
     "data": {
      "text/plain": [
       "Matrix([[2*x**4*y**4*exp(x**4*y**2/2) + y**2*exp(x**4*y**2/2), x**5*y**3*exp(x**4*y**2/2) + 2*x*y*exp(x**4*y**2/2)]])"
      ]
     },
     "execution_count": 1,
     "metadata": {},
     "output_type": "execute_result"
    }
   ],
   "source": [
    "# finalized\n",
    "from sympy import *\n",
    "\n",
    "x, y = symbols('x y')\n",
    "\n",
    "f_x = Matrix([x*y**2*exp(-x**4*-y**2/2)])\n",
    "v = Matrix([x, y])\n",
    "\n",
    "f_x.jacobian(v).subs({x:-1, y:2})"
   ]
  },
  {
   "cell_type": "code",
   "execution_count": 2,
   "metadata": {},
   "outputs": [
    {
     "data": {
      "text/plain": [
       "Matrix([[-2*pi, -E, 0]])"
      ]
     },
     "execution_count": 2,
     "metadata": {},
     "output_type": "execute_result"
    }
   ],
   "source": [
    "# finalized\n",
    "from sympy import *\n",
    "\n",
    "x, y, z = symbols('x y z')\n",
    "\n",
    "f_x = Matrix([x**2*cos(y) + exp(z)*sin(y)])\n",
    "v = Matrix([x, y, z])\n",
    "\n",
    "f_x.jacobian(v).subs({x:pi, y:pi, z:1})"
   ]
  },
  {
   "cell_type": "code",
   "execution_count": 3,
   "metadata": {},
   "outputs": [
    {
     "data": {
      "text/plain": [
       "Matrix([\n",
       "[      0,       1],\n",
       "[exp(pi), exp(pi)]])"
      ]
     },
     "execution_count": 3,
     "metadata": {},
     "output_type": "execute_result"
    }
   ],
   "source": [
    "# finalized\n",
    "from sympy import *\n",
    "\n",
    "x, y = symbols('x y')\n",
    "\n",
    "f_x = Matrix([x**2*y - cos(x)*sin(y), exp(x+y)])\n",
    "v = Matrix([x, y])\n",
    "\n",
    "f_x.jacobian(v).subs({x:0, y:pi})"
   ]
  },
  {
   "cell_type": "markdown",
   "metadata": {},
   "source": [
    "# calculate the Jacobian row vector"
   ]
  },
  {
   "cell_type": "code",
   "execution_count": 9,
   "metadata": {},
   "outputs": [
    {
     "data": {
      "text/plain": [
       "Matrix([[2*x*y + 3*y/4, x**2 + 3*x/4]])"
      ]
     },
     "execution_count": 9,
     "metadata": {},
     "output_type": "execute_result"
    }
   ],
   "source": [
    "import sympy\n",
    "vars = sympy.symbols('x y') # Define x and y variables\n",
    "f = sympy.sympify(['x**2*y+3/4*x*y+10']) # Define function\n",
    "J = sympy.zeros(len(f),len(vars)) # Initialise Jacobian matrix\n",
    "# Fill Jacobian matrix with entries\n",
    "for i, fi in enumerate(f):\n",
    "    for j, s in enumerate(vars):\n",
    "        J[i,j] = sympy.diff(fi, s)\n",
    "J"
   ]
  },
  {
   "cell_type": "code",
   "execution_count": 1,
   "metadata": {},
   "outputs": [
    {
     "data": {
      "text/plain": [
       "Matrix([[exp(x)*cos(y) + exp(3*y), 3*x*exp(3*y) - exp(x)*sin(y)]])"
      ]
     },
     "execution_count": 1,
     "metadata": {},
     "output_type": "execute_result"
    }
   ],
   "source": [
    "import sympy\n",
    "vars = sympy.symbols('x y') # Define x and y variables\n",
    "f = sympy.sympify(['exp(x)*cos(y)+x*exp(3*y)-2']) # Define function\n",
    "J = sympy.zeros(len(f),len(vars)) # Initialise Jacobian matrix\n",
    "# Fill Jacobian matrix with entries\n",
    "for i, fi in enumerate(f):\n",
    "    for j, s in enumerate(vars):\n",
    "        J[i,j] = sympy.diff(fi, s)\n",
    "J"
   ]
  },
  {
   "cell_type": "code",
   "execution_count": 4,
   "metadata": {},
   "outputs": [
    {
     "data": {
      "text/plain": [
       "Matrix([[2*x*y**2*z**2 + exp(x)*cos(y), 2*x**2*y*z**2 - exp(x)*sin(y), 2*x**2*y**2*z]])"
      ]
     },
     "execution_count": 4,
     "metadata": {},
     "output_type": "execute_result"
    }
   ],
   "source": [
    "from sympy import *\n",
    "vars = symbols('x y z')\n",
    "f = sympify(['exp(x)*cos(y) + x**2*y**2*z**2'])\n",
    "J = zeros(len(f),len(vars))\n",
    "for i, fi in enumerate(f):\n",
    "    for j, s in enumerate(vars):\n",
    "        J[i,j] = diff(fi, s)\n",
    "J"
   ]
  },
  {
   "cell_type": "code",
   "execution_count": 5,
   "metadata": {},
   "outputs": [
    {
     "data": {
      "text/plain": [
       "Matrix([[0, 3, 4]])"
      ]
     },
     "execution_count": 5,
     "metadata": {},
     "output_type": "execute_result"
    }
   ],
   "source": [
    "import sympy as sym\n",
    "vars = sym.symbols('x y z')\n",
    "x, y, z = sym.symbols('x y z')\n",
    "f = sym.sympify(['x**2 + 3*exp(y)*exp(z) + cos(x)*sin(z)'])\n",
    "J = sym.zeros(len(f),len(vars))\n",
    "for i, fi in enumerate(f):\n",
    "    for j, s in enumerate(vars):\n",
    "        J[i,j] = sym.diff(fi, s)\n",
    "J.subs({x:0, y:0, z:0})"
   ]
  },
  {
   "cell_type": "code",
   "execution_count": 6,
   "metadata": {},
   "outputs": [
    {
     "data": {
      "text/plain": [
       "Matrix([[1, 0, 0]])"
      ]
     },
     "execution_count": 6,
     "metadata": {},
     "output_type": "execute_result"
    }
   ],
   "source": [
    "import sympy as sym\n",
    "vars = sym.symbols('x y z')\n",
    "x, y, z = sym.symbols('x y z')\n",
    "f = sym.sympify(['x*exp(y)*cos(z) + 5*x**2*sin(y)*exp(z)'])\n",
    "J = sym.zeros(len(f),len(vars))\n",
    "for i, fi in enumerate(f):\n",
    "    for j, s in enumerate(vars):\n",
    "        J[i,j] = sym.diff(fi, s)\n",
    "J.subs({x:0, y:0, z:0})"
   ]
  },
  {
   "cell_type": "markdown",
   "metadata": {},
   "source": [
    "# calculate the Jacobian matrix"
   ]
  },
  {
   "cell_type": "code",
   "execution_count": 2,
   "metadata": {},
   "outputs": [
    {
     "data": {
      "text/plain": [
       "Matrix([\n",
       "[2*x, -2*y],\n",
       "[2*y,  2*x]])"
      ]
     },
     "execution_count": 2,
     "metadata": {},
     "output_type": "execute_result"
    }
   ],
   "source": [
    "import sympy as sym\n",
    "vars = sym.symbols('x y')\n",
    "f = sym.sympify(['x**2 - y**2',\n",
    "                '2*x*y'])\n",
    "J = sym.zeros(len(f),len(vars))\n",
    "for i, fi in enumerate(f):\n",
    "    for j, s in enumerate(vars):\n",
    "        J[i,j] = sym.diff(fi, s)\n",
    "J"
   ]
  },
  {
   "cell_type": "code",
   "execution_count": 3,
   "metadata": {},
   "outputs": [
    {
     "data": {
      "text/plain": [
       "Matrix([\n",
       "[                   2,                   -3,                    0],\n",
       "[      -sin(x)*sin(z),                    0,        cos(x)*cos(z)],\n",
       "[exp(x)*exp(y)*exp(z), exp(x)*exp(y)*exp(z), exp(x)*exp(y)*exp(z)]])"
      ]
     },
     "execution_count": 3,
     "metadata": {},
     "output_type": "execute_result"
    }
   ],
   "source": [
    "import sympy as sym\n",
    "vars = sym.symbols('x y z')\n",
    "f = sym.sympify(['x*2 - y*3',\n",
    "                'cos(x)*sin(z)',\n",
    "                'exp(x)*exp(y)*exp(z)'])\n",
    "J = sym.zeros(len(f),len(vars))\n",
    "for i, fi in enumerate(f):\n",
    "    for j, s in enumerate(vars):\n",
    "        J[i,j] = sym.diff(fi, s)\n",
    "J"
   ]
  },
  {
   "cell_type": "code",
   "execution_count": 4,
   "metadata": {},
   "outputs": [
    {
     "data": {
      "text/plain": [
       "Matrix([\n",
       "[0, 0, 1],\n",
       "[0, 0, 2],\n",
       "[0, 0, 1]])"
      ]
     },
     "execution_count": 4,
     "metadata": {},
     "output_type": "execute_result"
    }
   ],
   "source": [
    "import sympy as sym\n",
    "\n",
    "vars = sym.symbols('x y z')\n",
    "f = sym.sympify(['9*x**2*y**2 + z*exp(x)',\n",
    "                'x*y + x**2*y**3 + 2*z',\n",
    "                'cos(x)*sin(z)*exp(y)'])\n",
    "\n",
    "J = sym.zeros(len(f),len(vars))\n",
    "for i, fi in enumerate(f):\n",
    "    for j, s in enumerate(vars):\n",
    "        J[i,j] = sym.diff(fi, s)\n",
    "\n",
    "x, y, z = sym.symbols('x y z')\n",
    "J.subs({x:0, y:0, z:0})"
   ]
  },
  {
   "cell_type": "code",
   "execution_count": 8,
   "metadata": {},
   "outputs": [
    {
     "data": {
      "text/plain": [
       "Matrix([\n",
       "[sin(ϕ)*cos(θ), -r*sin(θ)*sin(ϕ), r*cos(θ)*cos(ϕ)],\n",
       "[sin(θ)*sin(ϕ),  r*sin(ϕ)*cos(θ), r*sin(θ)*cos(ϕ)],\n",
       "[       cos(ϕ),                0,       -r*sin(ϕ)]])"
      ]
     },
     "execution_count": 8,
     "metadata": {},
     "output_type": "execute_result"
    }
   ],
   "source": [
    "import sympy as sym\n",
    "\n",
    "vars = sym.symbols('r θ ϕ')\n",
    "f = sym.sympify(['r*cos(θ)*sin(ϕ)',\n",
    "                'r*sin(θ)*sin(ϕ)',\n",
    "                'r*cos(ϕ)'])\n",
    "\n",
    "J = sym.zeros(len(f),len(vars))\n",
    "for i, fi in enumerate(f):\n",
    "    for j, s in enumerate(vars):\n",
    "        J[i,j] = sym.diff(fi, s)\n",
    "\n",
    "J"
   ]
  },
  {
   "cell_type": "code",
   "execution_count": 1,
   "metadata": {},
   "outputs": [
    {
     "data": {
      "text/plain": [
       "Matrix([\n",
       "[2,  3],\n",
       "[2, -3]])"
      ]
     },
     "execution_count": 1,
     "metadata": {},
     "output_type": "execute_result"
    }
   ],
   "source": [
    "import sympy as sym\n",
    "\n",
    "def Jacobian(v_str, f_list):\n",
    "    vars = sym.symbols(v_str)\n",
    "    f = sym.sympify(f_list)\n",
    "    J = sym.zeros(len(f),len(vars))\n",
    "    for i, fi in enumerate(f):\n",
    "        for j, s in enumerate(vars):\n",
    "            J[i,j] = sym.diff(fi, s)\n",
    "    return J\n",
    "\n",
    "Jacobian('u1 u2', ['2*u1 + 3*u2','2*u1 - 3*u2'])"
   ]
  },
  {
   "cell_type": "code",
   "execution_count": null,
   "metadata": {},
   "outputs": [],
   "source": []
  }
 ],
 "metadata": {
  "kernelspec": {
   "display_name": "Python 3",
   "language": "python",
   "name": "python3"
  },
  "language_info": {
   "codemirror_mode": {
    "name": "ipython",
    "version": 3
   },
   "file_extension": ".py",
   "mimetype": "text/x-python",
   "name": "python",
   "nbconvert_exporter": "python",
   "pygments_lexer": "ipython3",
   "version": "3.7.1"
  }
 },
 "nbformat": 4,
 "nbformat_minor": 2
}
