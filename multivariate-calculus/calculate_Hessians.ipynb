{
 "cells": [
  {
   "cell_type": "markdown",
   "metadata": {},
   "source": [
    "# Calculating Hessians"
   ]
  },
  {
   "cell_type": "code",
   "execution_count": 21,
   "metadata": {},
   "outputs": [
    {
     "data": {
      "text/plain": [
       "Matrix([\n",
       "[ 6*x*y, 3*x**2],\n",
       "[3*x**2,      0]])"
      ]
     },
     "execution_count": 21,
     "metadata": {},
     "output_type": "execute_result"
    }
   ],
   "source": [
    "import sympy as sym\n",
    "\n",
    "vars = sym.symbols('x y')\n",
    "f = sym.sympify(['x**3*y + x + 2*y'])\n",
    "\n",
    "H = sym.zeros(len(vars),len(vars))\n",
    "for i, fi in enumerate(f):\n",
    "    for j, r in enumerate(vars):\n",
    "        for k, s in enumerate(vars):\n",
    "            H[j,k] = sym.diff(sym.diff(fi, r), s)\n",
    "H"
   ]
  },
  {
   "cell_type": "code",
   "execution_count": 26,
   "metadata": {},
   "outputs": [
    {
     "data": {
      "text/plain": [
       "Matrix([\n",
       "[ exp(x)*cos(y), -exp(x)*sin(y)],\n",
       "[-exp(x)*sin(y), -exp(x)*cos(y)]])"
      ]
     },
     "execution_count": 26,
     "metadata": {},
     "output_type": "execute_result"
    }
   ],
   "source": [
    "import sympy as sym\n",
    "\n",
    "vars = sym.symbols('x y')\n",
    "f = sym.sympify('exp(x)*cos(y)')\n",
    "\n",
    "H = sym.zeros(len(vars),len(vars))\n",
    "for i, r in enumerate(vars):\n",
    "    for j, s in enumerate(vars):\n",
    "        H[i,j] = sym.diff(sym.diff(f, r), s)\n",
    "H"
   ]
  },
  {
   "cell_type": "code",
   "execution_count": 30,
   "metadata": {},
   "outputs": [
    {
     "data": {
      "text/plain": [
       "Matrix([\n",
       "[     0,              exp(y),            0],\n",
       "[exp(y), x*exp(y) + 2*cos(z),  -2*y*sin(z)],\n",
       "[     0,         -2*y*sin(z), -y**2*cos(z)]])"
      ]
     },
     "execution_count": 30,
     "metadata": {},
     "output_type": "execute_result"
    }
   ],
   "source": [
    "import sympy as sym\n",
    "\n",
    "vars = sym.symbols('x y z')\n",
    "f = sym.sympify('x*exp(y) + y**2*cos(z)')\n",
    "\n",
    "H = sym.zeros(len(vars),len(vars))\n",
    "for i, r in enumerate(vars):\n",
    "    for j, s in enumerate(vars):\n",
    "        H[i,j] = sym.diff(sym.diff(f, r), s)\n",
    "H"
   ]
  },
  {
   "cell_type": "code",
   "execution_count": 6,
   "metadata": {},
   "outputs": [
    {
     "data": {
      "text/plain": [
       "Matrix([\n",
       "[-6.28318530717959 + 1.22464679914735e-16*(-6.28318530717959 + pi)*(-pi + 6.28318530717959), -2.0 + 1.22464679914735e-16*pi],\n",
       "[                                                            -2.0 + 1.22464679914735e-16*pi,          -1.22464679914735e-16]])"
      ]
     },
     "execution_count": 6,
     "metadata": {},
     "output_type": "execute_result"
    }
   ],
   "source": [
    "import sympy as sym\n",
    "\n",
    "vars = sym.symbols('x y')\n",
    "f = sym.sympify('sin(pi*x-x**2*y)')\n",
    "\n",
    "H = sym.zeros(len(vars),len(vars))\n",
    "for i, r in enumerate(vars):\n",
    "    for j, s in enumerate(vars):\n",
    "        H[i,j] = sym.diff(sym.diff(f, r), s)\n",
    "x, y = sym.symbols('x y')\n",
    "from math import pi\n",
    "H.subs({x:1,y:pi})"
   ]
  },
  {
   "cell_type": "code",
   "execution_count": 2,
   "metadata": {},
   "outputs": [
    {
     "data": {
      "text/plain": [
       "Matrix([\n",
       "[             6*x*cos(y), -3*x**2*sin(y) - cos(y)],\n",
       "[-3*x**2*sin(y) - cos(y), -x**3*cos(y) + x*sin(y)]])"
      ]
     },
     "execution_count": 2,
     "metadata": {},
     "output_type": "execute_result"
    }
   ],
   "source": [
    "import sympy as sym\n",
    "from sympy import *\n",
    "\n",
    "vars = sym.symbols('x y')\n",
    "f = sym.sympify('x**3*cos(y) - x*sin(y)')\n",
    "\n",
    "H = sym.zeros(len(vars),len(vars))\n",
    "for i, r in enumerate(vars):\n",
    "    for j, s in enumerate(vars):\n",
    "        H[i,j] = sym.diff(sym.diff(f, r), s)\n",
    "H"
   ]
  },
  {
   "cell_type": "code",
   "execution_count": 8,
   "metadata": {},
   "outputs": [
    {
     "data": {
      "text/plain": [
       "Matrix([\n",
       "[  z**3*exp(x),              1,              3*z**2*exp(x)],\n",
       "[            1, -sin(y)*sin(z),              cos(y)*cos(z)],\n",
       "[3*z**2*exp(x),  cos(y)*cos(z), 6*z*exp(x) - sin(y)*sin(z)]])"
      ]
     },
     "execution_count": 8,
     "metadata": {},
     "output_type": "execute_result"
    }
   ],
   "source": [
    "import sympy as sym\n",
    "from sympy import *\n",
    "\n",
    "vars = sym.symbols('x y z')\n",
    "f = sym.sympify('x*y + sin(y)*sin(z) + z**3*exp(x)')\n",
    "\n",
    "H = sym.zeros(len(vars),len(vars))\n",
    "for i, r in enumerate(vars):\n",
    "    for j, s in enumerate(vars):\n",
    "        H[i,j] = sym.diff(sym.diff(f, r), s)\n",
    "H"
   ]
  },
  {
   "cell_type": "code",
   "execution_count": 10,
   "metadata": {},
   "outputs": [
    {
     "data": {
      "text/plain": [
       "Matrix([\n",
       "[0, 1, 0],\n",
       "[1, 0, 0],\n",
       "[0, 0, 0]])"
      ]
     },
     "execution_count": 10,
     "metadata": {},
     "output_type": "execute_result"
    }
   ],
   "source": [
    "import sympy as sym\n",
    "from sympy import *\n",
    "\n",
    "vars = sym.symbols('x y z')\n",
    "f = sym.sympify('x*y*cos(z) + sin(x)*exp(y)*z**3')\n",
    "\n",
    "H = sym.zeros(len(vars),len(vars))\n",
    "for i, r in enumerate(vars):\n",
    "    for j, s in enumerate(vars):\n",
    "        H[i,j] = sym.diff(sym.diff(f, r), s)\n",
    "\n",
    "x, y, z = sym.symbols('x y z')\n",
    "H.subs({x:0,y:0,z:0})"
   ]
  },
  {
   "cell_type": "code",
   "execution_count": null,
   "metadata": {},
   "outputs": [],
   "source": []
  }
 ],
 "metadata": {
  "kernelspec": {
   "display_name": "Python 3",
   "language": "python",
   "name": "python3"
  },
  "language_info": {
   "codemirror_mode": {
    "name": "ipython",
    "version": 3
   },
   "file_extension": ".py",
   "mimetype": "text/x-python",
   "name": "python",
   "nbconvert_exporter": "python",
   "pygments_lexer": "ipython3",
   "version": "3.7.1"
  }
 },
 "nbformat": 4,
 "nbformat_minor": 2
}
