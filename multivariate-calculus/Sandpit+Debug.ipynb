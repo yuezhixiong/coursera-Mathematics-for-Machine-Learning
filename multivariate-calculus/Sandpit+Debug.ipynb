{
 "cells": [
  {
   "cell_type": "code",
   "execution_count": null,
   "metadata": {},
   "outputs": [],
   "source": [
    "# Click into this cell and press [Shift-Enter] to start.\n",
    "%run \"readonly/sandpit-exercises.ipynb\"\n",
    "sp = sandpit_random_test()\n",
    "\n",
    "def next_step(f, J, H) :\n",
    "    gamma = 0.5\n",
    "    return -gamma * J\n",
    "\n",
    "sp.next_step = next_step\n",
    "sp.game_mode=2\n",
    "sp.draw()\n",
    "sp.showContours()"
   ]
  },
  {
   "cell_type": "code",
   "execution_count": null,
   "metadata": {},
   "outputs": [],
   "source": [
    "sp.revealed = False\n",
    "sp.draw()\n",
    "sp.nGuess = 0\n",
    "sp.showContours()"
   ]
  },
  {
   "cell_type": "code",
   "execution_count": null,
   "metadata": {
    "collapsed": true
   },
   "outputs": [],
   "source": []
  }
 ],
 "metadata": {
  "kernelspec": {
   "display_name": "Python 3",
   "language": "python",
   "name": "python3"
  },
  "language_info": {
   "codemirror_mode": {
    "name": "ipython",
    "version": 3
   },
   "file_extension": ".py",
   "mimetype": "text/x-python",
   "name": "python",
   "nbconvert_exporter": "python",
   "pygments_lexer": "ipython3",
   "version": "3.6.2"
  },
  "widgets": {
   "state": {
    "39910c7c4d4449a9a6b7ef3bc8d684be": {
     "views": [
      {
       "cell_index": 0
      },
      {
       "cell_index": 1
      }
     ]
    }
   },
   "version": "1.2.0"
  }
 },
 "nbformat": 4,
 "nbformat_minor": 2
}
