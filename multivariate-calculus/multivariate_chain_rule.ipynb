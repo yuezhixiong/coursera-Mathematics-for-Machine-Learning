{
 "cells": [
  {
   "cell_type": "code",
   "execution_count": 19,
   "metadata": {},
   "outputs": [
    {
     "data": {
      "text/plain": [
       "(Matrix([[2*x1*x2**2 + x2, 2*x1**2*x2 + x1]]), Matrix([\n",
       " [-2*t],\n",
       " [ 2*t]]))"
      ]
     },
     "execution_count": 19,
     "metadata": {},
     "output_type": "execute_result"
    }
   ],
   "source": [
    "from sympy import *\n",
    "\n",
    "x1, x2, t = symbols('x1 x2 t')\n",
    "\n",
    "f_x = Matrix([x1**2*x2**2 + x1*x2])\n",
    "x_t = Matrix([1 - t**2,\n",
    "              1 + t**2])\n",
    "\n",
    "X = Matrix([x1, x2])\n",
    "T = Matrix([t])\n",
    "\n",
    "f_x.jacobian(X), x_t.jacobian(T)"
   ]
  },
  {
   "cell_type": "code",
   "execution_count": 20,
   "metadata": {},
   "outputs": [
    {
     "data": {
      "text/plain": [
       "(Matrix([[3*x1**2*exp(x3)*cos(x2), -x1**3*exp(x3)*sin(x2)]]), Matrix([\n",
       " [     2],\n",
       " [  -2*t],\n",
       " [exp(t)]]))"
      ]
     },
     "execution_count": 20,
     "metadata": {},
     "output_type": "execute_result"
    }
   ],
   "source": [
    "from sympy import *\n",
    "\n",
    "x1, x2, x3, t = symbols('x1 x2 x3 t')\n",
    "X = Matrix([x1, x2, x3])\n",
    "T = Matrix([t])\n",
    "\n",
    "f_x = Matrix([x1**3*cos(x2)*exp(x3)])\n",
    "x_t = Matrix([2*t,\n",
    "              1 - t**2,\n",
    "              exp(t)])\n",
    "\n",
    "f_x.jacobian(X), x_t.jacobian(T)"
   ]
  },
  {
   "cell_type": "code",
   "execution_count": 27,
   "metadata": {},
   "outputs": [
    {
     "data": {
      "text/plain": [
       "(Matrix([[-sin(x1)*sin(x2), cos(x1)*cos(x2)]]), Matrix([\n",
       " [4*u1,  6*u2 - 1],\n",
       " [   2, -15*u2**2]]), Matrix([\n",
       " [  exp(t/2)/2],\n",
       " [-2*exp(-2*t)]]))"
      ]
     },
     "execution_count": 27,
     "metadata": {},
     "output_type": "execute_result"
    }
   ],
   "source": [
    "from sympy import *\n",
    "\n",
    "x1, x2, u1, u2, t = symbols('x1, x2, u1, u2, t')\n",
    "X = Matrix([x1, x2])\n",
    "U = Matrix([u1, u2])\n",
    "T = Matrix([t])\n",
    "\n",
    "f_x = Matrix([cos(x1)*sin(x2)])\n",
    "x_u = Matrix([2*u1**2 + 3*u2**2 - u2,\n",
    "              2*u1 - 5*u2**3])\n",
    "u_t = Matrix([exp(t/2),\n",
    "              exp(-2*t)])\n",
    "\n",
    "f_x.jacobian(X), x_u.jacobian(U), u_t.jacobian(T)"
   ]
  },
  {
   "cell_type": "code",
   "execution_count": 29,
   "metadata": {},
   "outputs": [
    {
     "data": {
      "text/plain": [
       "(Matrix([[exp(x3)*cos(x1)*cos(x2), -exp(x3)*sin(x1)*sin(x2), exp(x3)*sin(x1)*cos(x2)]]),\n",
       " Matrix([\n",
       " [     cos(u1),     -sin(u2)],\n",
       " [    -sin(u1),     -cos(u2)],\n",
       " [exp(u1 + u2), exp(u1 + u2)]]),\n",
       " Matrix([\n",
       " [ 1/2],\n",
       " [-1/2]]))"
      ]
     },
     "execution_count": 29,
     "metadata": {},
     "output_type": "execute_result"
    }
   ],
   "source": [
    "from sympy import *\n",
    "\n",
    "x1, x2, x3, u1, u2, t = symbols('x1, x2, x3, u1, u2, t')\n",
    "X = Matrix([x1, x2, x3])\n",
    "U = Matrix([u1, u2])\n",
    "T = Matrix([t])\n",
    "\n",
    "f_x = Matrix([sin(x1)*cos(x2)*exp(x3)])\n",
    "x_u = Matrix([sin(u1) + cos(u2),\n",
    "              cos(u1) - sin(u2),\n",
    "              exp(u1+u2)])\n",
    "u_t = Matrix([1 + t/2,\n",
    "              1 - t/2])\n",
    "\n",
    "f_x.jacobian(X), x_u.jacobian(U), u_t.jacobian(T)"
   ]
  },
  {
   "cell_type": "code",
   "execution_count": 34,
   "metadata": {},
   "outputs": [
    {
     "data": {
      "text/plain": [
       "6.10351851264602e-05"
      ]
     },
     "execution_count": 34,
     "metadata": {},
     "output_type": "execute_result"
    }
   ],
   "source": [
    "import numpy as np\n",
    "a = np.ndarray([1])\n",
    "a@a"
   ]
  },
  {
   "cell_type": "code",
   "execution_count": null,
   "metadata": {},
   "outputs": [],
   "source": []
  }
 ],
 "metadata": {
  "kernelspec": {
   "display_name": "Python 3",
   "language": "python",
   "name": "python3"
  },
  "language_info": {
   "codemirror_mode": {
    "name": "ipython",
    "version": 3
   },
   "file_extension": ".py",
   "mimetype": "text/x-python",
   "name": "python",
   "nbconvert_exporter": "python",
   "pygments_lexer": "ipython3",
   "version": "3.7.1"
  }
 },
 "nbformat": 4,
 "nbformat_minor": 2
}
